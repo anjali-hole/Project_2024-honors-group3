{
 "cells": [
  {
   "cell_type": "code",
   "execution_count": 1,
   "id": "257301a8",
   "metadata": {},
   "outputs": [
    {
     "name": "stdout",
     "output_type": "stream",
     "text": [
      "Warning: Roundtrip module could not be loaded. Requires jupyter notebook version <= 7.x.\n"
     ]
    }
   ],
   "source": [
    "import sys\n",
    "sys.path.append(\"/scratch/group/csce435-f24/python-3.10.4/lib/python3.10/site-packages\")\n",
    "sys.path.append(\"/scratch/group/csce435-f24/thicket\")\n",
    "from glob import glob\n",
    "\n",
    "import matplotlib.pyplot as plt \n",
    "import pandas as pd\n",
    "\n",
    "import thicket as th\n"
   ]
  },
  {
   "cell_type": "code",
   "execution_count": 3,
   "id": "7541ca4e",
   "metadata": {},
   "outputs": [
    {
     "name": "stderr",
     "output_type": "stream",
     "text": [
      "(1/2) Reading Files: 100%|██████████| 1/1 [00:02<00:00,  2.52s/it]\n",
      "0it [00:00, ?it/s]\n"
     ]
    }
   ],
   "source": [
    "#1_trial is a name of a folder containing the cali files, you may create a folder with a different name and replace\n",
    "tk =th.Thicket.from_caliperreader(glob(\"./caliper_output/merge-p32-a4194304.cali\")) "
   ]
  },
  {
   "cell_type": "code",
   "execution_count": 4,
   "id": "7aff9114",
   "metadata": {},
   "outputs": [
    {
     "name": "stdout",
     "output_type": "stream",
     "text": [
      "  _____ _     _      _        _   \n",
      " |_   _| |__ (_) ___| | _____| |_ \n",
      "   | | | '_ \\| |/ __| |/ / _ \\ __|\n",
      "   | | | | | | | (__|   <  __/ |_ \n",
      "   |_| |_| |_|_|\\___|_|\\_\\___|\\__|  v2024.1.0\n",
      "\n",
      "\u001b[38;5;196m1.761\u001b[0m main\u001b[0m\n",
      "├─ \u001b[38;5;22m0.091\u001b[0m data_init_runtime\u001b[0m\n",
      "│  └─ \u001b[38;5;22m0.091\u001b[0m data_init_runtime\u001b[0m\n",
      "├─ \u001b[38;5;208m1.345\u001b[0m comp\u001b[0m\n",
      "│  ├─ \u001b[38;5;220m1.201\u001b[0m comp_large\u001b[0m\n",
      "│  └─ \u001b[38;5;22m0.145\u001b[0m comp_small\u001b[0m\n",
      "├─ \u001b[38;5;22m0.093\u001b[0m comm\u001b[0m\n",
      "│  ├─ \u001b[38;5;22m0.070\u001b[0m comm_small\u001b[0m\n",
      "│  │  └─ \u001b[38;5;22m0.070\u001b[0m MPI_Sendrecv\u001b[0m\n",
      "│  └─ \u001b[38;5;22m0.022\u001b[0m comm_large\u001b[0m\n",
      "│     ├─ \u001b[38;5;22m0.000\u001b[0m MPI_Sendrecv\u001b[0m\n",
      "│     └─ \u001b[38;5;22m0.022\u001b[0m MPI_Gather\u001b[0m\n",
      "└─ \u001b[38;5;22m0.012\u001b[0m correctness_check\u001b[0m\n",
      "   └─ \u001b[38;5;22m0.001\u001b[0m comm\u001b[0m\n",
      "      └─ \u001b[38;5;22m0.001\u001b[0m comm_small\u001b[0m\n",
      "         ├─ \u001b[38;5;22m0.001\u001b[0m MPI_Recv\u001b[0m\n",
      "         └─ \u001b[38;5;22m0.000\u001b[0m MPI_Send\u001b[0m\n",
      "\u001b[38;5;22m0.000\u001b[0m MPI_Finalize\u001b[0m\n",
      "\u001b[38;5;22m0.000\u001b[0m MPI_Initialized\u001b[0m\n",
      "\u001b[38;5;22m0.000\u001b[0m MPI_Finalized\u001b[0m\n",
      "\u001b[38;5;34m0.323\u001b[0m MPI_Comm_dup\u001b[0m\n",
      "\n",
      "\u001b[4mLegend\u001b[0m (Metric: Avg time/rank Min: 0.00 Max: 1.76 indices: {'profile': 3297710960})\n",
      "\u001b[38;5;196m█ \u001b[0m1.59 - 1.76\n",
      "\u001b[38;5;208m█ \u001b[0m1.23 - 1.59\n",
      "\u001b[38;5;220m█ \u001b[0m0.88 - 1.23\n",
      "\u001b[38;5;46m█ \u001b[0m0.53 - 0.88\n",
      "\u001b[38;5;34m█ \u001b[0m0.18 - 0.53\n",
      "\u001b[38;5;22m█ \u001b[0m0.00 - 0.18\n",
      "\n",
      "name\u001b[0m User code    \u001b[38;5;160m◀ \u001b[0m Only in left graph    \u001b[38;5;28m▶ \u001b[0m Only in right graph\n",
      "\n"
     ]
    }
   ],
   "source": [
    "print(tk.tree(metric_column=\"Avg time/rank\"))"
   ]
  },
  {
   "cell_type": "code",
   "execution_count": 5,
   "id": "a670cb32",
   "metadata": {},
   "outputs": [
    {
     "name": "stdout",
     "output_type": "stream",
     "text": [
      "           cali.caliper.version  mpi.world.size                                                                                                                                                                                                                                                                                                                                                                                 spot.metrics spot.timeseries.metrics  spot.format.version                                                      spot.options  spot.channels cali.channel spot:node.order        spot:output spot:profile.mpi spot:region.count spot:time.exclusive spot:time.variance  launchdate                                                                                                                                                                                                                                                                                                                                                                                                                                                                                                                                                                                                                                                                                                                                                                                                                                                                                                                                                                                                                                                                                                                                                                                                                                                                                                                                                                                                                                                                                                                                                                                                                                                                                                                                                                                                                                                                                                           libraries                  cmdline cluster algorithm programming_model data_type  size_of_data_type  input_size input_type  num_procs scalability  group_num implementation_source\n",
      "profile                                                                                                                                                                                                                                                                                                                                                                                                                                                                                                                                                                                                                                                                                                                                                                                                                                                                                                                                                                                                                                                                                                                                                                                                                                                                                                                                                                                                                                                                                                                                                                                                                                                                                                                                                                                                                                                                                                                                                                                                                                                                                                                                                                                                                                                                                                                                                                                                                                                                                                                                                                                                                                                                                                                                                                                                      \n",
      "3297710960               2.11.0              32  min#inclusive#sum#time.duration,max#inclusive#sum#time.duration,avg#inclusive#sum#time.duration,sum#inclusive#sum#time.duration,variance#inclusive#sum#time.duration,min#min#aggregate.slot,min#sum#rc.count,avg#sum#rc.count,max#sum#rc.count,sum#sum#rc.count,min#scale#sum#time.duration.ns,max#scale#sum#time.duration.ns,avg#scale#sum#time.duration.ns,sum#scale#sum#time.duration.ns                                            2  time.variance,profile.mpi,node.order,region.count,time.exclusive  regionprofile         spot            true  p32-a4194304.cali             true              true                true               true  1729408207  [/scratch/group/csce435-f24/Caliper/caliper/lib64/libcaliper.so.2, /sw/eb/sw/impi/2019.9.304-iccifort-2020.4.304/intel64/lib/libmpicxx.so.12, /sw/eb/sw/impi/2019.9.304-iccifort-2020.4.304/intel64/lib/release/libmpi.so.12, /lib64/librt.so.1, /lib64/libpthread.so.0, /lib64/libdl.so.2, /sw/eb/sw/GCCcore/8.3.0/lib64/libstdc++.so.6, /lib64/libm.so.6, /sw/eb/sw/GCCcore/8.3.0/lib64/libgcc_s.so.1, /lib64/libc.so.6, /sw/eb/sw/CUDA/11.8.0/extras/CUPTI/lib64/libcupti.so.11.8, /sw/eb/sw/PAPI/6.0.0-GCCcore-8.3.0/lib/libpapi.so.6.0, /lib64/ld-linux-x86-64.so.2, /sw/eb/sw/impi/2019.9.304-iccifort-2020.4.304/intel64/libfabric/lib/libfabric.so.1, /lib64/libutil.so.1, /sw/eb/sw/PAPI/6.0.0-GCCcore-8.3.0/lib/libpfm.so.4, /lib64/libnuma.so, /sw/eb/sw/impi/2019.9.304-iccifort-2020.4.304/intel64/libfabric/lib/prov/libshm-fi.so, /sw/eb/sw/impi/2019.9.304-iccifort-2020.4.304/intel64/libfabric/lib/prov/libmlx-fi.so, /lib64/libucp.so.0, /sw/eb/sw/zlib/1.2.11-GCCcore-8.3.0/lib/libz.so.1, /usr/lib64/libuct.so.0, /usr/lib64/libucs.so.0, /usr/lib64/libucm.so.0, /sw/eb/sw/impi/2019.9.304-iccifort-2020.4.304/intel64/libfabric/lib/prov/libverbs-fi.so, /lib64/librdmacm.so.1, /lib64/libibverbs.so.1, /lib64/libnl-3.so.200, /lib64/libnl-route-3.so.200, /usr/lib64/libibverbs/libmlx5-rdmav34.so, /sw/eb/sw/impi/2019.9.304-iccifort-2020.4.304/intel64/libfabric/lib/prov/libpsmx2-fi.so, /lib64/libpsm2.so.2, /sw/eb/sw/impi/2019.9.304-iccifort-2020.4.304/intel64/libfabric/lib/prov/libsockets-fi.so, /sw/eb/sw/impi/2019.9.304-iccifort-2020.4.304/intel64/libfabric/lib/prov/librxm-fi.so, /sw/eb/sw/impi/2019.9.304-iccifort-2020.4.304/intel64/libfabric/lib/prov/libtcp-fi.so, /usr/lib64/ucx/libuct_ib.so.0, /usr/lib64/ucx/libuct_rdmacm.so.0, /usr/lib64/ucx/libuct_cma.so.0, /usr/lib64/ucx/libuct_knem.so.0, /usr/lib64/ucx/libuct_xpmem.so.0, /usr/lib64/libxpmem.so.0]  [./main, 2, 2, 4194304]       c     merge               mpi       int                  4     4194304     Random         32      strong          3           handwritten\n"
     ]
    }
   ],
   "source": [
    "# tk-metadata_column_to_perfdata(\"matrix_size\")\n",
    "pd.set_option('display.max_columns', None)  # Show all columns\n",
    "pd.set_option('display.max_colwidth', None)  # Show full content of each column\n",
    "pd.set_option('display.expand_frame_repr', False)\n",
    "# tk. dataframe = tk.dataframe.reset_index().set_index([\"node\", \"num_procs\", \"matrix_size\"]).sort_index()\n",
    "#tk. dataframe.head)\n",
    "print(tk.metadata)"
   ]
  },
  {
   "cell_type": "code",
   "execution_count": null,
   "id": "03272071",
   "metadata": {},
   "outputs": [],
   "source": []
  }
 ],
 "metadata": {
  "kernelspec": {
   "display_name": "Python 3 (ipykernel)",
   "language": "python",
   "name": "python3"
  },
  "language_info": {
   "codemirror_mode": {
    "name": "ipython",
    "version": 3
   },
   "file_extension": ".py",
   "mimetype": "text/x-python",
   "name": "python",
   "nbconvert_exporter": "python",
   "pygments_lexer": "ipython3",
   "version": "3.10.4"
  }
 },
 "nbformat": 4,
 "nbformat_minor": 5
}
